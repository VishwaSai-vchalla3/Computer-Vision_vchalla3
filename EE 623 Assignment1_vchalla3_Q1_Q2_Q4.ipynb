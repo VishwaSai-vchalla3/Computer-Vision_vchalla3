{
 "cells": [
  {
   "cell_type": "code",
   "execution_count": 31,
   "id": "14dde598",
   "metadata": {},
   "outputs": [],
   "source": [
    "#Added to avoid Kernel crash.\n",
    "import os\n",
    "os.environ['KMP_DUPLICATE_LIB_OK']='True'\n",
    "\n",
    "import pandas as pd\n",
    "import numpy as np\n",
    "import tensorflow as tf\n",
    "import matplotlib.pyplot as plt\n",
    "\n",
    "from sklearn.neighbors import KNeighborsClassifier\n",
    "\n",
    "import time"
   ]
  },
  {
   "cell_type": "code",
   "execution_count": 32,
   "id": "5955c807",
   "metadata": {},
   "outputs": [],
   "source": [
    "# Load mnist dataset\n",
    "(x_train_mnist, y_train_mnist), (x_test_mnist, y_test_mnist) = tf.keras.datasets.mnist.load_data()"
   ]
  },
  {
   "cell_type": "code",
   "execution_count": 3,
   "id": "acfd8c5a",
   "metadata": {},
   "outputs": [],
   "source": [
    "#Generating the random class images for mnist dataset.\n",
    "class_images_mnist =[]\n",
    "for i in range(10):\n",
    "  class_images_mnist.append(x_train_mnist[y_train_mnist==i][np.random.randint(len(x_train_mnist[y_train_mnist==i]))])"
   ]
  },
  {
   "cell_type": "code",
   "execution_count": 4,
   "id": "9b655158",
   "metadata": {},
   "outputs": [],
   "source": [
    "# Take one random image from each class and estimate L1 distance to every other class. Display these results as cell output.\n",
    "\n",
    "def L1_distance(class_images):\n",
    "  distances = np.zeros((10,10))\n",
    "  for i in range(10):\n",
    "    for j in range(10):\n",
    "      distances[i][j] = np.sum(np.abs(class_images[i]-class_images[j]))\n",
    "  return distances"
   ]
  },
  {
   "cell_type": "code",
   "execution_count": 5,
   "id": "f85d2751",
   "metadata": {},
   "outputs": [
    {
     "name": "stdout",
     "output_type": "stream",
     "text": [
      "[[    0. 29732. 30822. 33370. 31675. 30239. 29639. 32595. 34288. 36786.]\n",
      " [30684.     0. 24386. 29750. 21911. 19195. 25507. 27439. 24268. 29326.]\n",
      " [32410. 28350.     0. 32756. 31573. 34233. 27745. 30957. 32138. 33356.]\n",
      " [33702. 32714. 34316.     0. 36193. 33221. 34413. 37881. 36502. 41560.]\n",
      " [32837. 20841. 25515. 32671.     0. 26468. 23820. 20632. 23605. 34295.]\n",
      " [34529. 23045. 32583. 34619. 28828.     0. 33448. 34100. 30417. 37779.]\n",
      " [35385. 33629. 35231. 40851. 36852. 37720.     0. 40076. 37929. 40939.]\n",
      " [30381. 26833. 26899. 33031. 29544. 32460. 29812.     0. 26013. 33887.]\n",
      " [41744. 31796. 33398. 37482. 36811. 35375. 36823. 32867.     0. 40642.]\n",
      " [33358. 28274. 28852. 33192. 28425. 33645. 32021. 30369. 31294.     0.]]\n"
     ]
    }
   ],
   "source": [
    "#function call for mnist dataset\n",
    "L1_distances_mnist = L1_distance(class_images_mnist)\n",
    "print(L1_distances_mnist)"
   ]
  },
  {
   "cell_type": "code",
   "execution_count": 6,
   "id": "698985c6",
   "metadata": {},
   "outputs": [],
   "source": [
    "# Load Cifar 10 dataset\n",
    "(x_train_cifar, y_train_cifar), (x_test_cifar, y_test_cifar) = tf.keras.datasets.cifar10.load_data()"
   ]
  },
  {
   "cell_type": "code",
   "execution_count": 7,
   "id": "5cf9a99d",
   "metadata": {},
   "outputs": [],
   "source": [
    "# Generate the class name for cifar10\n",
    "class_names_cifar = ['airplane', 'automobile', 'bird', 'cat', 'deer', 'dog', 'frog', 'horse', 'ship', 'truck']"
   ]
  },
  {
   "cell_type": "code",
   "execution_count": 8,
   "id": "9c1b0989",
   "metadata": {},
   "outputs": [
    {
     "name": "stdout",
     "output_type": "stream",
     "text": [
      "6\n"
     ]
    }
   ],
   "source": [
    "cifar_label = np.ravel(y_train_cifar)\n",
    "print(cifar_label[0])"
   ]
  },
  {
   "cell_type": "code",
   "execution_count": 9,
   "id": "0d9f2e40",
   "metadata": {},
   "outputs": [],
   "source": [
    "#Generating the random class images for Cifar-10 dataset.\n",
    "class_images_cifar =[]\n",
    "for i in range(10):\n",
    "    class_images_cifar.append(x_train_cifar[cifar_label==i][np.random.randint(len(x_train_cifar[cifar_label==i]))])"
   ]
  },
  {
   "cell_type": "code",
   "execution_count": 10,
   "id": "f393e036",
   "metadata": {},
   "outputs": [
    {
     "name": "stdout",
     "output_type": "stream",
     "text": [
      "[[     0. 404982. 386052. 361540. 412997. 431712. 355500. 432510. 343938.\n",
      "  392868.]\n",
      " [375050.      0. 371982. 357966. 429903. 447082. 393398. 386696. 372108.\n",
      "  422062.]\n",
      " [395772. 410098.      0. 388672. 445505. 487260. 350888. 424826. 375934.\n",
      "  374688.]\n",
      " [424124. 426418. 396224.      0. 442881. 379164. 365928. 455482. 387646.\n",
      "  383840.]\n",
      " [371387. 352433. 337599. 341503.      0. 451355. 436327. 358969. 439869.\n",
      "  415327.]\n",
      " [352672. 334998. 297124. 405988. 330213.      0. 445516. 247838. 448290.\n",
      "  397124.]\n",
      " [428116. 390986. 433496. 418968. 347801. 336564.      0. 383954. 381654.\n",
      "  367096.]\n",
      " [349826. 396152. 356742. 329414. 421575. 537058. 400430.      0. 413700.\n",
      "  400166.]\n",
      " [440190. 412020. 408450. 394178. 342723. 334046. 402474. 370172.      0.\n",
      "  364578.]\n",
      " [389468. 361554. 410464. 401056. 369057. 383932. 394504. 383706. 419806.\n",
      "       0.]]\n"
     ]
    }
   ],
   "source": [
    "#function call for Cifar10 dataset\n",
    "L1_distances_cifar = L1_distance(class_images_cifar)\n",
    "print(L1_distances_cifar)"
   ]
  },
  {
   "cell_type": "code",
   "execution_count": 11,
   "id": "b03dfbff",
   "metadata": {},
   "outputs": [],
   "source": [
    "# Find the closest neighboring class (K=1) based on L1 distance for each image class and provide your thoughts on why these images from different class looks similar. \n",
    "\n",
    "def find_nearest_neighbor(distances):\n",
    "  nearest_neighbors = []\n",
    "  for i in range(10):\n",
    "    min_distance = np.min(distances[i])\n",
    "    nearest_neighbor_index = np.where(distances[i] == min_distance)[0][0]\n",
    "    nearest_neighbors.append(nearest_neighbor_index)\n",
    "  return nearest_neighbors"
   ]
  },
  {
   "cell_type": "code",
   "execution_count": 12,
   "id": "408a5ccd",
   "metadata": {},
   "outputs": [
    {
     "name": "stdout",
     "output_type": "stream",
     "text": [
      "Nearest neighbors for MNIST:\n",
      "Class 0: -> [0]\n",
      "Class 1: -> [1]\n",
      "Class 2: -> [2]\n",
      "Class 3: -> [3]\n",
      "Class 4: -> [4]\n",
      "Class 5: -> [5]\n",
      "Class 6: -> [6]\n",
      "Class 7: -> [7]\n",
      "Class 8: -> [8]\n",
      "Class 9: -> [9]\n",
      "\n",
      "Nearest neighbors for CIFAR-10:\n",
      "Class 0: airplane -> airplane\n",
      "Class 1: automobile -> automobile\n",
      "Class 2: bird -> bird\n",
      "Class 3: cat -> cat\n",
      "Class 4: deer -> deer\n",
      "Class 5: dog -> dog\n",
      "Class 6: frog -> frog\n",
      "Class 7: horse -> horse\n",
      "Class 8: ship -> ship\n",
      "Class 9: truck -> truck\n"
     ]
    }
   ],
   "source": [
    "nearest_neighbors_mnist = find_nearest_neighbor(L1_distances_mnist)\n",
    "nearest_neighbors_cifar = find_nearest_neighbor(L1_distances_cifar)\n",
    "\n",
    "print(\"Nearest neighbors for MNIST:\")\n",
    "for i in range(10):\n",
    "  print(f\"Class {i}: -> {[nearest_neighbors_mnist[i]]}\")\n",
    "\n",
    "print(\"\\nNearest neighbors for CIFAR-10:\")\n",
    "for i in range(10):\n",
    "  print(f\"Class {i}: {class_names_cifar[i]} -> {class_names_cifar[nearest_neighbors_cifar[i]]}\")"
   ]
  },
  {
   "cell_type": "code",
   "execution_count": 13,
   "id": "bba496f6",
   "metadata": {},
   "outputs": [],
   "source": [
    "# Take one random image from each class and estimate L1 distance to every other class. Display these results as cell output.\n",
    "\n",
    "def L2_distance(class_images):\n",
    "  distances = np.zeros((10,10))\n",
    "  for i in range(10):\n",
    "    for j in range(10):\n",
    "      distances[i][j] = np.sqrt(np.sum(np.power(np.abs(class_images[i]-class_images[j]), 2)))\n",
    "  return distances"
   ]
  },
  {
   "cell_type": "code",
   "execution_count": 14,
   "id": "eebf12e3",
   "metadata": {},
   "outputs": [
    {
     "name": "stdout",
     "output_type": "stream",
     "text": [
      "[[  0.         139.39153489 146.17113258 149.42556675 122.10241603\n",
      "  138.6758811  143.34922393 139.38794783 150.1932089  152.74815875]\n",
      " [139.39153489   0.         116.67904696 148.69431731  83.108363\n",
      "  119.72050785 136.26077939 117.5542428  128.98837157 135.60973416]\n",
      " [146.17113258 116.67904696   0.         152.5516306  107.80074211\n",
      "  134.04103849 143.3352713  132.3669143  138.82362911 136.96714935]\n",
      " [149.42556675 148.69431731 152.5516306    0.         133.18032888\n",
      "  151.22499793 152.88230767 144.26018162 152.25636276 153.84407691]\n",
      " [122.10241603  83.108363   107.80074211 133.18032888   0.\n",
      "  102.52804494 117.38824473  94.3504107  115.7367703  116.94870671]\n",
      " [138.6758811  119.72050785 134.04103849 151.22499793 102.52804494\n",
      "    0.         145.83552379 129.05812644 143.10485666 147.25148556]\n",
      " [143.34922393 136.26077939 143.3352713  152.88230767 117.38824473\n",
      "  145.83552379   0.         137.46999673 147.53643618 147.91551643]\n",
      " [139.38794783 117.5542428  132.3669143  144.26018162  94.3504107\n",
      "  129.05812644 137.46999673   0.         131.28213892 136.19471355]\n",
      " [150.1932089  128.98837157 138.82362911 152.25636276 115.7367703\n",
      "  143.10485666 147.53643618 131.28213892   0.         148.35093529]\n",
      " [152.74815875 135.60973416 136.96714935 153.84407691 116.94870671\n",
      "  147.25148556 147.91551643 136.19471355 148.35093529   0.        ]]\n"
     ]
    }
   ],
   "source": [
    "#function call for mnist L2 distance dataset\n",
    "L2_distances_mnist = L2_distance(class_images_mnist)\n",
    "print(L2_distances_mnist)"
   ]
  },
  {
   "cell_type": "code",
   "execution_count": 15,
   "id": "99d2dcbb",
   "metadata": {},
   "outputs": [
    {
     "name": "stdout",
     "output_type": "stream",
     "text": [
      "[[  0.         560.04999777 572.74252505 579.06649014 552.43370643\n",
      "  566.3938559  576.95753743 572.07866592 575.03565107 563.62753659]\n",
      " [560.04999777   0.         564.52812153 569.82628932 575.49022581\n",
      "  567.51211441 579.28921965 562.27929003 573.46839494 568.20066878]\n",
      " [572.74252505 564.52812153   0.         571.91782627 569.44271002\n",
      "  565.5934936  566.64097981 575.41463311 567.38170573 574.38837036]\n",
      " [579.06649014 569.82628932 571.91782627   0.         576.06162865\n",
      "  576.74084301 575.81941614 573.59218963 565.20615708 580.84937807]\n",
      " [552.43370643 575.49022581 569.44271002 576.06162865   0.\n",
      "  561.00356505 574.15241879 562.35309193 571.09106104 572.53558841]\n",
      " [566.3938559  567.51211441 565.5934936  576.74084301 561.00356505\n",
      "    0.         573.43003061 566.89681601 570.52081469 554.09205011]\n",
      " [576.95753743 579.28921965 566.64097981 575.81941614 574.15241879\n",
      "  573.43003061   0.         568.15842861 577.35084654 544.95871403]\n",
      " [572.07866592 562.27929003 575.41463311 573.59218963 562.35309193\n",
      "  566.89681601 568.15842861   0.         573.83272824 571.65024272]\n",
      " [575.03565107 573.46839494 567.38170573 565.20615708 571.09106104\n",
      "  570.52081469 577.35084654 573.83272824   0.         563.8386294 ]\n",
      " [563.62753659 568.20066878 574.38837036 580.84937807 572.53558841\n",
      "  554.09205011 544.95871403 571.65024272 563.8386294    0.        ]]\n"
     ]
    }
   ],
   "source": [
    "#function call for cifar10 L2 distance dataset\n",
    "L2_distances_cifar = L2_distance(class_images_cifar)\n",
    "print(L2_distances_cifar)"
   ]
  },
  {
   "cell_type": "code",
   "execution_count": 16,
   "id": "aee938d2",
   "metadata": {},
   "outputs": [
    {
     "name": "stdout",
     "output_type": "stream",
     "text": [
      "Nearest neighbors for MNIST:\n",
      "Class 0: -> [0]\n",
      "Class 1: -> [1]\n",
      "Class 2: -> [2]\n",
      "Class 3: -> [3]\n",
      "Class 4: -> [4]\n",
      "Class 5: -> [5]\n",
      "Class 6: -> [6]\n",
      "Class 7: -> [7]\n",
      "Class 8: -> [8]\n",
      "Class 9: -> [9]\n",
      "\n",
      "Nearest neighbors for CIFAR-10:\n",
      "Class 0: airplane -> airplane\n",
      "Class 1: automobile -> automobile\n",
      "Class 2: bird -> bird\n",
      "Class 3: cat -> cat\n",
      "Class 4: deer -> deer\n",
      "Class 5: dog -> dog\n",
      "Class 6: frog -> frog\n",
      "Class 7: horse -> horse\n",
      "Class 8: ship -> ship\n",
      "Class 9: truck -> truck\n"
     ]
    }
   ],
   "source": [
    "nearest_neighbors_mnist = find_nearest_neighbor(L2_distances_mnist)\n",
    "nearest_neighbors_cifar = find_nearest_neighbor(L2_distances_cifar)\n",
    "\n",
    "print(\"Nearest neighbors for MNIST:\")\n",
    "for i in range(10):\n",
    "  print(f\"Class {i}: -> {[nearest_neighbors_mnist[i]]}\")\n",
    "\n",
    "print(\"\\nNearest neighbors for CIFAR-10:\")\n",
    "for i in range(10):\n",
    "  print(f\"Class {i}: {class_names_cifar[i]} -> {class_names_cifar[nearest_neighbors_cifar[i]]}\")"
   ]
  },
  {
   "cell_type": "code",
   "execution_count": 33,
   "id": "05aea13a",
   "metadata": {},
   "outputs": [
    {
     "name": "stdout",
     "output_type": "stream",
     "text": [
      "(70000, 28, 28)\n",
      "(70000,)\n"
     ]
    }
   ],
   "source": [
    "#Combine the mnist dataset..\n",
    "X = np.concatenate([x_train_mnist, x_test_mnist], axis=0)\n",
    "y = np.concatenate([y_train_mnist, y_test_mnist], axis=0)\n",
    "\n",
    "print(X.shape)\n",
    "print(y.shape)"
   ]
  },
  {
   "cell_type": "code",
   "execution_count": 34,
   "id": "c4ac0b00",
   "metadata": {},
   "outputs": [
    {
     "name": "stdout",
     "output_type": "stream",
     "text": [
      "Training set shapes:\n",
      "X_train: (56000, 28, 28)\n",
      "y_train: (56000,)\n",
      "\n",
      "Test set shapes:\n",
      "X_test: (14000, 28, 28)\n",
      "y_test: (14000,)\n"
     ]
    }
   ],
   "source": [
    "#Split the training and testing data into 80% and 20%\n",
    "from sklearn.model_selection import train_test_split\n",
    "\n",
    "# Assuming X and y are already defined\n",
    "X_train, X_test, y_train, y_test = train_test_split(X, y, test_size=0.2, random_state=42)\n",
    "\n",
    "# Display the shapes of the training and test sets\n",
    "print(\"Training set shapes:\")\n",
    "print(\"X_train:\", X_train.shape)\n",
    "print(\"y_train:\", y_train.shape)\n",
    "\n",
    "print(\"\\nTest set shapes:\")\n",
    "print(\"X_test:\", X_test.shape)\n",
    "print(\"y_test:\", y_test.shape)"
   ]
  },
  {
   "cell_type": "code",
   "execution_count": 19,
   "id": "687b2e11",
   "metadata": {},
   "outputs": [],
   "source": [
    "#Based on L1 distance function, run K-nearest neighbor classifier for K=5 on test set.\n",
    "\n",
    "def distance_formula(val, metric):\n",
    "  \n",
    "  #Define the KNN Classifier with k=5\n",
    "  knn_mnist = KNeighborsClassifier(n_neighbors=val,metric= metric)\n",
    "  \n",
    "  #Fit the classifier on the traininf data\n",
    "  knn_mnist.fit(X_train.reshape(-1,28*28),y_train)\n",
    "  \n",
    "  #Predict the labels for the test data\n",
    "  predicted_labels_mnist = knn_mnist.predict(X_test.reshape(-1, 28 * 28))\n",
    "  \n",
    "  # Calculate the accuracy of the predictions\n",
    "  accuracy_mnist = knn_mnist.score(X_test.reshape(-1, 28 * 28), y_test)\n",
    "  \n",
    "  return predicted_labels_mnist,accuracy_mnist"
   ]
  },
  {
   "cell_type": "code",
   "execution_count": 20,
   "id": "588afb78",
   "metadata": {},
   "outputs": [
    {
     "name": "stdout",
     "output_type": "stream",
     "text": [
      "Predicted Labels:  [8 4 8 ... 2 7 1]\n",
      "Accuracy:  0.965\n",
      "Time taken to complete the execution is: 2418.2009992599487\n"
     ]
    }
   ],
   "source": [
    "#Time execution started here...\n",
    "start_time = time.time()\n",
    "\n",
    "#Function run time..\n",
    "predicted_labels,accuracy = distance_formula(5,'manhattan')\n",
    "\n",
    "print(\"Predicted Labels: \",predicted_labels)\n",
    "\n",
    "print(\"Accuracy: \",accuracy)\n",
    "\n",
    "#Time execution ended here...\n",
    "end_time = time.time()\n",
    "\n",
    "elapsed_time = end_time-start_time\n",
    "\n",
    "print(\"Time taken to complete the execution is:\",elapsed_time)"
   ]
  },
  {
   "cell_type": "code",
   "execution_count": 21,
   "id": "cae978be",
   "metadata": {},
   "outputs": [
    {
     "name": "stdout",
     "output_type": "stream",
     "text": [
      "Predicted Labels:  [8 4 3 ... 2 7 1]\n",
      "Accuracy:  0.9515714285714286\n",
      "Time taken to complete the execution is: 2361.558183193207\n"
     ]
    }
   ],
   "source": [
    "#Time execution started here...\n",
    "start_time = time.time()\n",
    "\n",
    "#Function run time..\n",
    "predicted_labels,accuracy = distance_formula(25,'manhattan')\n",
    "\n",
    "print(\"Predicted Labels: \",predicted_labels)\n",
    "\n",
    "print(\"Accuracy: \",accuracy)\n",
    "\n",
    "#Time execution ended here...\n",
    "end_time = time.time()\n",
    "\n",
    "elapsed_time = end_time-start_time\n",
    "\n",
    "print(\"Time taken to complete the execution is:\",elapsed_time)"
   ]
  },
  {
   "cell_type": "code",
   "execution_count": 22,
   "id": "969c7fbf",
   "metadata": {},
   "outputs": [
    {
     "name": "stdout",
     "output_type": "stream",
     "text": [
      "Predicted Labels:  [8 4 8 ... 2 7 1]\n",
      "Accuracy:  0.9405714285714286\n",
      "Time taken to complete the execution is: 1480.6820652484894\n"
     ]
    }
   ],
   "source": [
    "#Time execution started here...\n",
    "start_time = time.time()\n",
    "\n",
    "#Function run time..\n",
    "predicted_labels,accuracy = distance_formula(55,'manhattan')\n",
    "\n",
    "print(\"Predicted Labels: \",predicted_labels)\n",
    "\n",
    "print(\"Accuracy: \",accuracy)\n",
    "\n",
    "#Time execution ended here...\n",
    "end_time = time.time()\n",
    "\n",
    "elapsed_time = end_time-start_time\n",
    "\n",
    "print(\"Time taken to complete the execution is:\",elapsed_time)"
   ]
  },
  {
   "cell_type": "code",
   "execution_count": 23,
   "id": "05e559d2",
   "metadata": {},
   "outputs": [
    {
     "name": "stdout",
     "output_type": "stream",
     "text": [
      "Predicted Labels:  [8 4 3 ... 2 7 1]\n",
      "Accuracy:  0.9271428571428572\n",
      "Time taken to complete the execution is: 1146.7460265159607\n"
     ]
    }
   ],
   "source": [
    "#Time execution started here...\n",
    "start_time = time.time()\n",
    "\n",
    "#Function run time..\n",
    "predicted_labels,accuracy = distance_formula(105,'manhattan')\n",
    "\n",
    "print(\"Predicted Labels: \",predicted_labels)\n",
    "\n",
    "print(\"Accuracy: \",accuracy)\n",
    "\n",
    "#Time execution ended here...\n",
    "end_time = time.time()\n",
    "\n",
    "elapsed_time = end_time-start_time\n",
    "\n",
    "print(\"Time taken to complete the execution is:\",elapsed_time)"
   ]
  },
  {
   "cell_type": "code",
   "execution_count": 74,
   "id": "7d4b0cf9",
   "metadata": {},
   "outputs": [
    {
     "name": "stderr",
     "output_type": "stream",
     "text": [
      "C:\\ProgramData\\anaconda3\\envs\\tf_new\\lib\\site-packages\\sklearn\\datasets\\_openml.py:1002: FutureWarning: The default value of `parser` will change from `'liac-arff'` to `'auto'` in 1.4. You can set `parser='auto'` to silence this warning. Therefore, an `ImportError` will be raised from 1.4 if the dataset is dense and pandas is not installed. Note that the pandas parser may return different data types. See the Notes Section in fetch_openml's API doc for details.\n",
      "  warn(\n"
     ]
    },
    {
     "name": "stdout",
     "output_type": "stream",
     "text": [
      "(56000, 784) (14000, 784)\n"
     ]
    }
   ],
   "source": [
    "import numpy as np\n",
    "import time\n",
    "\n",
    "class KNN:\n",
    "    def __init__(self, k):\n",
    "        self.k = k\n",
    "\n",
    "    def fit(self, X_train, y_train):\n",
    "        self.X_train = X_train\n",
    "        self.y_train = y_train\n",
    "\n",
    "    def predict(self, X_test,i):\n",
    "        if i =='euclidean':\n",
    "            pred = predict_using_L2(self,X_test)\n",
    "            return pred\n",
    "        elif i == 'manhattan':\n",
    "            predictions = np.zeros(X_test.shape[0], dtype=int)\n",
    "            for i, x_test in enumerate(X_test):\n",
    "                distances = np.sum(np.abs(self.X_train - x_test), axis=1)\n",
    "                k_neighbors_indices = np.argsort(distances)[:self.k]\n",
    "                k_nearest_labels = self.y_train[k_neighbors_indices]\n",
    "                predictions[i] = np.argmax(np.bincount(k_nearest_labels))\n",
    "\n",
    "            return predictions\n",
    "\n",
    "    def predict_using_L2(self, X_test):\n",
    "      predictions = np.zeros(X_test.shape[0], dtype=int)\n",
    "      for i, x_test in enumerate(X_test):\n",
    "        # L2 or Euclidean Distance calculation\n",
    "        distances = np.linalg.norm(self.X_train - x_test, axis=1)\n",
    "        k_neighbors_indices = np.argsort(distances)[:self.k]\n",
    "        k_nearest_labels = self.y_train[k_neighbors_indices]\n",
    "        predictions[i] = np.argmax(np.bincount(k_nearest_labels))\n",
    "\n",
    "      return predictions\n",
    "\n",
    "\n",
    "# Load MNIST dataset\n",
    "from sklearn.datasets import fetch_openml\n",
    "mnist = fetch_openml('mnist_784', version=1, cache=True)\n",
    "\n",
    "# Extract features (images) and labels\n",
    "X = np.array(mnist.data.astype('float32'))\n",
    "y = np.array(mnist.target.astype('int'))\n",
    "\n",
    "# Normalize pixel values to be between 0 and 1\n",
    "X_normalized = X / 255.0\n",
    "\n",
    "# Split the data into train (80%) and test (20%) sets\n",
    "split_index = int(0.8 * len(X_normalized))\n",
    "X_train, X_test = X_normalized[:split_index], X_normalized[split_index:]\n",
    "y_train, y_test = y[:split_index], y[split_index:]\n",
    "\n",
    "print(X_train.shape,X_test.shape)\n",
    "\n"
   ]
  },
  {
   "cell_type": "code",
   "execution_count": 71,
   "id": "0dbfef6d",
   "metadata": {},
   "outputs": [
    {
     "name": "stdout",
     "output_type": "stream",
     "text": [
      "Distance calculating using manhattan the value k is 5\n",
      "Accuracy of the Execution:  0.9648571428571429\n",
      "Time taken for the execution is:  3267.532927751541\n",
      "Distance calculating using manhattan the value k is 25\n",
      "Accuracy of the Execution:  0.9572142857142857\n",
      "Time taken for the execution is:  2522.59134721756\n",
      "Distance calculating using manhattan the value k is 55\n",
      "Accuracy of the Execution:  0.9470714285714286\n",
      "Time taken for the execution is:  3214.1539709568024\n",
      "Distance calculating using manhattan the value k is 105\n",
      "Accuracy of the Execution:  0.9367857142857143\n",
      "Time taken for the execution is:  1784.227282524109\n",
      "Distance calculating using euclidean the value k is 5\n"
     ]
    },
    {
     "ename": "NameError",
     "evalue": "name 'predict_using_L2' is not defined",
     "output_type": "error",
     "traceback": [
      "\u001b[1;31m---------------------------------------------------------------------------\u001b[0m",
      "\u001b[1;31mNameError\u001b[0m                                 Traceback (most recent call last)",
      "Cell \u001b[1;32mIn[71], line 9\u001b[0m\n\u001b[0;32m      7\u001b[0m clf \u001b[38;5;241m=\u001b[39m KNN(j)\n\u001b[0;32m      8\u001b[0m clf\u001b[38;5;241m.\u001b[39mfit(X_train, y_train)\n\u001b[1;32m----> 9\u001b[0m predictions \u001b[38;5;241m=\u001b[39m \u001b[43mclf\u001b[49m\u001b[38;5;241;43m.\u001b[39;49m\u001b[43mpredict\u001b[49m\u001b[43m(\u001b[49m\u001b[43mX_test\u001b[49m\u001b[43m,\u001b[49m\u001b[43mi\u001b[49m\u001b[43m)\u001b[49m\n\u001b[0;32m     10\u001b[0m acc \u001b[38;5;241m=\u001b[39m np\u001b[38;5;241m.\u001b[39mmean(predictions \u001b[38;5;241m==\u001b[39m y_test)\n\u001b[0;32m     11\u001b[0m \u001b[38;5;28mprint\u001b[39m(\u001b[38;5;124m\"\u001b[39m\u001b[38;5;124mAccuracy of the Execution: \u001b[39m\u001b[38;5;124m\"\u001b[39m,acc)\n",
      "Cell \u001b[1;32mIn[70], line 14\u001b[0m, in \u001b[0;36mKNN.predict\u001b[1;34m(self, X_test, i)\u001b[0m\n\u001b[0;32m     12\u001b[0m \u001b[38;5;28;01mdef\u001b[39;00m \u001b[38;5;21mpredict\u001b[39m(\u001b[38;5;28mself\u001b[39m, X_test,i):\n\u001b[0;32m     13\u001b[0m     \u001b[38;5;28;01mif\u001b[39;00m i \u001b[38;5;241m==\u001b[39m\u001b[38;5;124m'\u001b[39m\u001b[38;5;124meuclidean\u001b[39m\u001b[38;5;124m'\u001b[39m:\n\u001b[1;32m---> 14\u001b[0m         pred\u001b[38;5;241m=\u001b[39m \u001b[43mpredict_using_L2\u001b[49m(\u001b[38;5;28mself\u001b[39m,X_test)\n\u001b[0;32m     15\u001b[0m         \u001b[38;5;28;01mreturn\u001b[39;00m pred\n\u001b[0;32m     16\u001b[0m     \u001b[38;5;28;01melif\u001b[39;00m i \u001b[38;5;241m==\u001b[39m \u001b[38;5;124m'\u001b[39m\u001b[38;5;124mmanhattan\u001b[39m\u001b[38;5;124m'\u001b[39m:\n",
      "\u001b[1;31mNameError\u001b[0m: name 'predict_using_L2' is not defined"
     ]
    }
   ],
   "source": [
    "#X_train= X_train.reshape(56000,28*28)\n",
    "#X_test = X_test.reshape(14000,28*28)\n",
    "for i in ['manhattan','euclidean']:\n",
    "    for j in [5,25,55,105]:\n",
    "        start_time = time.time()\n",
    "        print(\"Distance calculating using \" + i +\" the value k is \"+str(j))\n",
    "        clf = KNN(j)\n",
    "        clf.fit(X_train, y_train)\n",
    "        predictions = clf.predict(X_test,i)\n",
    "        acc = np.mean(predictions == y_test)\n",
    "        print(\"Accuracy of the Execution: \",acc)\n",
    "        end_time = time.time()\n",
    "        elapsed_time = (end_time-start_time)\n",
    "        print(\"Time taken for the execution is: \",elapsed_time)"
   ]
  },
  {
   "cell_type": "code",
   "execution_count": null,
   "id": "c36c8881",
   "metadata": {},
   "outputs": [],
   "source": [
    "#Posted the values for the manhattan distance execution.\n",
    "Distance calculating using manhattan the value k is 5\n",
    "Accuracy of the Execution:  0.9648571428571429\n",
    "Time taken for the execution is:  3267.532927751541\n",
    "Distance calculating using manhattan the value k is 25\n",
    "Accuracy of the Execution:  0.9572142857142857\n",
    "Time taken for the execution is:  2522.59134721756\n",
    "Distance calculating using manhattan the value k is 55\n",
    "Accuracy of the Execution:  0.9470714285714286\n",
    "Time taken for the execution is:  3214.1539709568024\n",
    "Distance calculating using manhattan the value k is 105\n",
    "Accuracy of the Execution:  0.9367857142857143\n",
    "Time taken for the execution is:  1784.227282524109"
   ]
  },
  {
   "cell_type": "code",
   "execution_count": 77,
   "id": "1aca735f",
   "metadata": {},
   "outputs": [
    {
     "name": "stdout",
     "output_type": "stream",
     "text": [
      "Distance calculating using euclidean the value k is 5\n",
      "Accuracy of the Execution:  0.9714285714285714\n",
      "Time taken for the execution is:  2224.3867087364197\n",
      "Distance calculating using euclidean the value k is 25\n",
      "Accuracy of the Execution:  0.964\n",
      "Time taken for the execution is:  3634.046198129654\n",
      "Distance calculating using euclidean the value k is 55\n",
      "Accuracy of the Execution:  0.9555\n",
      "Time taken for the execution is:  3739.5229263305664\n",
      "Distance calculating using euclidean the value k is 105\n",
      "Accuracy of the Execution:  0.9473571428571429\n",
      "Time taken for the execution is:  2852.9343724250793\n"
     ]
    }
   ],
   "source": [
    "    i='euclidean'\n",
    "    for j in [5,25,55,105]:\n",
    "        start_time = time.time()\n",
    "        print(\"Distance calculating using \" + i +\" the value k is \"+str(j))\n",
    "        clf = KNN(j)\n",
    "        clf.fit(X_train, y_train)\n",
    "        predictions = clf.predict_using_L2(X_test)\n",
    "        acc = np.mean(predictions == y_test)\n",
    "        print(\"Accuracy of the Execution: \",acc)\n",
    "        end_time = time.time()\n",
    "        elapsed_time = (end_time-start_time)\n",
    "        print(\"Time taken for the execution is: \",elapsed_time)"
   ]
  },
  {
   "cell_type": "code",
   "execution_count": null,
   "id": "df427fa4",
   "metadata": {},
   "outputs": [],
   "source": [
    "Q4: Summarize the key observations in Q1, Q2, and Q3. \n",
    "Q1 description:I have loaded the mnist and cifar 10 datasets and calculated the manhattan and euclidean distances for them respectively.\n",
    "For the Calculation of the distance, i have taken the random images from the datasets and took the one image from each class and calculated\n",
    "the distance for one among the other datapoints.\n",
    "\n",
    "Q2 description: I have previously loaded the data but it seems like it is divided in 90 10 ratio.But i have merged the test and training data \n",
    "in one cell and used the train test split method for the purpose of dividing the data in 80 and 20 in train and test ratios respectively.\n",
    "Then i have initially calculated k=5,25,55,105 with manhattan distance using the inbuilt function KneighbourClassifier.But later on i have \n",
    "executed all the cases with knn code from the scratch using the classes and function.\n",
    "\n",
    "From the observations..\n",
    "If the K value is increasing then the Accuracy of the Execution is decreasing.\n",
    "If the K value is increasing then the time taken by the execution also is increasing.\n",
    "If there is any larger data the algorithm performance is going to be bad.\n",
    "If the K=1 the algorithm performing better but it might take the longer time needs more processing speed.\n",
    "Comparatively the performance is little better when we use the euclidean distance than using the Manhattan distance.\n",
    "When coming to the execution with the dense layer networks.\n",
    "\n",
    "NOTE:Executed the Dense Layer network in Different NoteBook[EE 623 Assignment1_vchalla3_Q3]"
   ]
  }
 ],
 "metadata": {
  "kernelspec": {
   "display_name": "Python 3 (ipykernel)",
   "language": "python",
   "name": "python3"
  },
  "language_info": {
   "codemirror_mode": {
    "name": "ipython",
    "version": 3
   },
   "file_extension": ".py",
   "mimetype": "text/x-python",
   "name": "python",
   "nbconvert_exporter": "python",
   "pygments_lexer": "ipython3",
   "version": "3.10.13"
  }
 },
 "nbformat": 4,
 "nbformat_minor": 5
}
