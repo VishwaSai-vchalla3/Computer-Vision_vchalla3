{
 "cells": [
  {
   "cell_type": "code",
   "execution_count": 2,
   "metadata": {
    "id": "rBe5UcL9Vpzc"
   },
   "outputs": [],
   "source": [
    "#Importing the libraries required for the Code\n",
    "import tensorflow as tf\n",
    "import os,cv2,keras\n",
    "import pandas as pd\n",
    "import matplotlib.pyplot as plt\n",
    "import numpy as np\n",
    "\n",
    "from tensorflow.keras.datasets import cifar10\n",
    "from tensorflow.keras.layers import Input\n",
    "\n",
    "from keras.layers import Dense\n",
    "from keras import Model\n",
    "from keras import optimizers"
   ]
  },
  {
   "cell_type": "code",
   "execution_count": 3,
   "metadata": {
    "id": "uCyVu3HWGbb6"
   },
   "outputs": [],
   "source": [
    "import os\n",
    "os.environ['KMP_DUPLICATE_LIB_OK']='True'"
   ]
  },
  {
   "cell_type": "code",
   "execution_count": 4,
   "metadata": {
    "colab": {
     "base_uri": "https://localhost:8080/"
    },
    "id": "NsryBIz7WDk5",
    "outputId": "f81b442c-e796-4112-939f-51c34aad7d0f"
   },
   "outputs": [
    {
     "name": "stdout",
     "output_type": "stream",
     "text": [
      "Downloading data from https://www.cs.toronto.edu/~kriz/cifar-10-python.tar.gz\n",
      "170498071/170498071 [==============================] - 13s 0us/step\n",
      "Shape of the training images: (50000, 32, 32, 3)\n",
      "Shape of the training labels: (50000, 1)\n",
      "Shape of the testing images: (10000, 32, 32, 3)\n",
      "Shape of the testing labels: (10000, 1)\n"
     ]
    }
   ],
   "source": [
    "#fetching the cifar-10 from the inbuilt libraries.\n",
    "(X_train,y_train),(X_test,y_test) = cifar10.load_data()\n",
    "\n",
    "print(\"Shape of the training images:\", X_train.shape)\n",
    "print(\"Shape of the training labels:\", y_train.shape)\n",
    "print(\"Shape of the testing images:\", X_test.shape)\n",
    "print(\"Shape of the testing labels:\", y_test.shape)"
   ]
  },
  {
   "cell_type": "code",
   "execution_count": 5,
   "metadata": {
    "id": "FUmy0nu7XYyj"
   },
   "outputs": [],
   "source": [
    "#Labels for the cifar 10 dataset\n",
    "cifar_classes = [\n",
    "    'airplane', 'automobile', 'bird', 'cat', 'deer',\n",
    "    'dog', 'frog', 'horse', 'ship', 'truck'\n",
    "]"
   ]
  },
  {
   "cell_type": "code",
   "execution_count": 6,
   "metadata": {
    "colab": {
     "base_uri": "https://localhost:8080/"
    },
    "id": "W6CSFmNcY2Vo",
    "outputId": "277bc1bf-a341-49a5-bb98-762797cf587f"
   },
   "outputs": [
    {
     "name": "stdout",
     "output_type": "stream",
     "text": [
      "Shape of mini CIFAR images: (10000, 32, 32, 3)\n",
      "Shape of mini CIFAR labels: (10000,)\n"
     ]
    }
   ],
   "source": [
    "import numpy as np\n",
    "\n",
    "# Define the classes to extract\n",
    "classes_to_extract = ['airplane', 'automobile', 'bird', 'cat', 'deer']\n",
    "\n",
    "# Initialize lists to store the extracted images and labels\n",
    "mini_cifar_images = []\n",
    "mini_cifar_labels = []\n",
    "\n",
    "# Initialize a counter to keep track of the number of images extracted for each class\n",
    "class_image_count = {class_label: 0 for class_label in classes_to_extract}\n",
    "\n",
    "# Iterate over the CIFAR-10 dataset\n",
    "for image, label in zip(X_train, y_train):\n",
    "    # Convert label from numeric to string class name\n",
    "    class_name = cifar_classes[label[0]]\n",
    "\n",
    "    # Check if the current image belongs to one of the classes to extract\n",
    "    if class_name in classes_to_extract:\n",
    "        # Check if the maximum number of images has been extracted for the current class\n",
    "        if class_image_count[class_name] < 2000:\n",
    "            # Append the image and its label to the mini dataset\n",
    "            mini_cifar_images.append(image)\n",
    "            mini_cifar_labels.append(class_name)\n",
    "\n",
    "            # Increment the image count for the current class\n",
    "            class_image_count[class_name] += 1\n",
    "\n",
    "    # Check if the maximum number of images has been extracted for all classes\n",
    "    if all(count >= 2000 for count in class_image_count.values()):\n",
    "        break\n",
    "\n",
    "# Convert the lists to NumPy arrays\n",
    "mini_cifar_images = np.array(mini_cifar_images)\n",
    "mini_cifar_labels = np.array(mini_cifar_labels)\n",
    "\n",
    "# Print the shapes of the extracted dataset\n",
    "print(\"Shape of mini CIFAR images:\", mini_cifar_images.shape)\n",
    "print(\"Shape of mini CIFAR labels:\", mini_cifar_labels.shape)"
   ]
  },
  {
   "cell_type": "markdown",
   "metadata": {
    "id": "6nbVvi59gNjX"
   },
   "source": [
    "Selective Search is a region proposal algorithm used in object detection. It is designed to be fast with a very high recall. It is based on computing hierarchical grouping of similar regions based on color, texture, size and shape compatibility."
   ]
  },
  {
   "cell_type": "code",
   "execution_count": 7,
   "metadata": {
    "id": "rdfbBeCAdUmP"
   },
   "outputs": [],
   "source": [
    "#Implementing the Selective search based regional proposal algorithm.\n",
    "\n",
    "cv2.setUseOptimized(True)\n",
    "ss = cv2.ximgproc.segmentation.createSelectiveSearchSegmentation()"
   ]
  },
  {
   "cell_type": "code",
   "execution_count": 8,
   "metadata": {
    "colab": {
     "base_uri": "https://localhost:8080/",
     "height": 447
    },
    "id": "dkZihAgiY2ZK",
    "outputId": "9c0cfb4e-10c6-477a-da1d-9e8881c113a6"
   },
   "outputs": [
    {
     "data": {
      "text/plain": [
       "<matplotlib.image.AxesImage at 0x780cbd8e3430>"
      ]
     },
     "execution_count": 8,
     "metadata": {},
     "output_type": "execute_result"
    },
    {
     "data": {
      "image/png": "[encoded data removed]",
      "text/plain": [
       "<Figure size 640x480 with 1 Axes>"
      ]
     },
     "metadata": {},
     "output_type": "display_data"
    }
   ],
   "source": [
    "im = mini_cifar_images[0]\n",
    "ss.setBaseImage(im)\n",
    "ss.switchToSelectiveSearchFast()\n",
    "rects = ss.process()\n",
    "imOut = im.copy()\n",
    "for i, rect in enumerate(rects):\n",
    "  x, y, w, h = rect\n",
    "  # print(x,y,w,h)\n",
    "  # imOut = imOut[x:x+w,y:y+h]\n",
    "  cv2.rectangle(imOut,(x,y),(x+w,y+h),(0,255,0),1,cv2.LINE_AA)\n",
    "# plt.figure()\n",
    "plt.imshow(imOut)"
   ]
  },
  {
   "cell_type": "markdown",
   "metadata": {
    "id": "jjpQWs70kY3o"
   },
   "source": [
    "Intersection over union Intersection over Union is simply an evaluation metric. Any algorithm that provides predicted bounding boxes as output can be evaluated using IoU.\n",
    "More formally, in order to apply Intersection over Union to evaluate an (arbitrary) object detector we need:\n",
    "1.The ground-truth bounding boxes (i.e., the hand labeled bounding boxes from the testing set that specify where in the image our object is).\n",
    "2.The predicted bounding boxes from our model.After getting these two we can find there intersection and union area,whih ultimately gives us our IoU."
   ]
  },
  {
   "cell_type": "code",
   "execution_count": 9,
   "metadata": {
    "id": "_R6k5E2DinA4"
   },
   "outputs": [],
   "source": [
    "def get_iou(bb1, bb2):\n",
    "  # assuring for the proper dimension.\n",
    "  assert bb1['x1'] < bb1['x2']\n",
    "  assert bb1['y1'] < bb1['y2']\n",
    "  assert bb2['x1'] < bb2['x2']\n",
    "  assert bb2['y1'] < bb2['y2']\n",
    "\n",
    "  # calculating dimension of common area between these two boxes.\n",
    "  x_left = max(bb1['x1'] ,bb1['x1'])\n",
    "  y_top = max(bb1['y1'] ,bb1['y1'])\n",
    "  x_right = min(bb1['x2'] ,bb1['x2'])\n",
    "  y_bottom = min(bb1['y2'] ,bb1['y2'])\n",
    "\n",
    "  # if there is no overlap output 0 as intersection area is zero\n",
    "  if x_right < x_left or y_bottom < y_top:\n",
    "    return 0.0\n",
    "\n",
    "  # calculating intersection area.\n",
    "  intersection_area = (x_right - x_left)*(y_bottom - y_top)\n",
    "  # individual areas of both these bounding boxes.\n",
    "  bb1_area = (bb1['x2'] - bb1['x1'])*(bb1['y2']-bb1['y1'])\n",
    "  bb2_area = (bb2['x2'] - bb2['x1'])*(bb2['y2']-bb2['y1'])\n",
    "  # union area = area of bb1 + area of bb2 - intersection of bb1 and bb2\n",
    "  iou = intersection_area/float(bb1_area+bb2_area-intersection_area)\n",
    "  assert iou >= 0.0\n",
    "  assert iou <= 1.0\n",
    "  return iou"
   ]
  },
  {
   "cell_type": "markdown",
   "metadata": {
    "id": "U5T1BeeRxnGS"
   },
   "source": [
    "Training data here is prepared according to following scheme:-\n",
    "a) Those boxes which have an IoU greater than 0.7 (original paper it's 0.5) are considered as a positive example.\n",
    "b) And boxes with relative low IoU 0.3 are taken to be negative examples.\n",
    "Number of regions taken here is 30 positive and 30 negative (original paper have 32 and 96 respectively) of size 224x224. Note- Original paper also talk about warping but as we have resized them already so there is no need of it"
   ]
  },
  {
   "cell_type": "code",
   "execution_count": 10,
   "metadata": {
    "id": "u9B0xvSRinER"
   },
   "outputs": [],
   "source": [
    "#At the end of below code we will have our train data in these lists.\n",
    "train_images = mini_cifar_images\n",
    "train_labels = mini_cifar_labels\n",
    "\n",
    "ss = cv2.ximgproc.segmentation.createSelectiveSearchSegmentation()\n",
    "\n",
    "for img, label in zip(train_images, train_labels):\n",
    "    try:\n",
    "        if label == 0:  # Assuming 0 represents 'airplane' class\n",
    "            gtvalues = [{\"x1\": 0, \"y1\": 0, \"x2\": 32, \"y2\": 32}]  # Assuming whole image as ground truth bbox\n",
    "            ss.setBaseImage(img)\n",
    "            ss.switchToSelectiveSearchFast()\n",
    "            ssresults = ss.process()\n",
    "            imout = img.copy()\n",
    "            counter = 0\n",
    "            falsecounter = 0\n",
    "            flag = 0\n",
    "            fflag = 0\n",
    "            bflag = 0\n",
    "\n",
    "            for e, result in enumerate(ssresults):\n",
    "                if e < 2000 and flag == 0:  # Until 2000 to get top 2000 regions only\n",
    "                    for gtval in gtvalues:\n",
    "                        x, y, w, h = result\n",
    "                        iou = get_iou(gtval, {\"x1\": x, \"x2\": x + w, \"y1\": y, \"y2\": y + h})  # Calculating IoU\n",
    "                        if counter < 30:  # Getting only 30 positive examples\n",
    "                            if iou > 0.70:  # IoU or being positive is 0.7\n",
    "                                train_images.append(imout[x:x + w, y:y + h])\n",
    "                                train_labels.append(1)\n",
    "                                counter += 1\n",
    "                        else:\n",
    "                            fflag = 1  # To ensure we have collected all positive examples\n",
    "                        if falsecounter < 30:  # 30 negative examples are allowed only\n",
    "                            if iou < 0.3:  # IoU or being negative is 0.3\n",
    "                                train_images.append(imout[x:x + w, y:y + h])\n",
    "                                train_labels.append(0)\n",
    "                                falsecounter += 1\n",
    "                        else:\n",
    "                            bflag = 1  # To ensure we have collected all negative examples\n",
    "                    if fflag == 1 and bflag == 1:\n",
    "                        flag = 1  # To signal the completion of data extraction from a particular image\n",
    "    except Exception as e:\n",
    "        print(e)\n",
    "        print(\"Error in processing an image.\")\n",
    "        continue"
   ]
  },
  {
   "cell_type": "code",
   "execution_count": 11,
   "metadata": {
    "colab": {
     "base_uri": "https://localhost:8080/"
    },
    "id": "I_IcPYWv4EvU",
    "outputId": "b18e4364-980b-4e3b-a901-6cb089139e99"
   },
   "outputs": [
    {
     "name": "stdout",
     "output_type": "stream",
     "text": [
      "10000\n"
     ]
    }
   ],
   "source": [
    "print(len(train_images))"
   ]
  },
  {
   "cell_type": "code",
   "execution_count": 12,
   "metadata": {
    "id": "QXzmxksl7h--"
   },
   "outputs": [],
   "source": [
    "# conversion of train data into arrays for further training\n",
    "X_new = np.array(train_images)\n",
    "Y_new = np.array(train_labels)\n",
    "\n"
   ]
  },
  {
   "cell_type": "code",
   "execution_count": 13,
   "metadata": {
    "id": "yTHZaMDgYhQl"
   },
   "outputs": [],
   "source": [
    "class_to_index = {cls: i for i, cls in enumerate(classes_to_extract)}\n",
    "Y_new = np.array([class_to_index[label] for label in Y_new])\n"
   ]
  },
  {
   "cell_type": "code",
   "execution_count": 14,
   "metadata": {
    "id": "9TmeWb6oP3GJ"
   },
   "outputs": [],
   "source": [
    "from keras.layers import Input, UpSampling2D, Conv2D, GlobalAveragePooling2D, Dense, BatchNormalization, Activation, MaxPooling2D, Flatten, Dropout, concatenate\n",
    "from keras.models import Model,Sequential\n",
    "from tensorflow.keras.applications.vgg16 import VGG16\n",
    "from keras.optimizers import Adam\n"
   ]
  },
  {
   "cell_type": "code",
   "execution_count": 15,
   "metadata": {
    "colab": {
     "base_uri": "https://localhost:8080/"
    },
    "id": "vhWJPmveJosG",
    "outputId": "b60b8098-6879-496b-9d98-ad7c1b69d4f5"
   },
   "outputs": [
    {
     "name": "stdout",
     "output_type": "stream",
     "text": [
      "Model: \"sequential\"\n",
      "_________________________________________________________________\n",
      " Layer (type)                Output Shape              Param #   \n",
      "=================================================================\n",
      " block1_conv1 (Conv2D)       (None, 32, 32, 64)        1792      \n",
      "                                                                 \n",
      " block1_conv2 (Conv2D)       (None, 32, 32, 64)        36928     \n",
      "                                                                 \n",
      " block1_pool (MaxPooling2D)  (None, 16, 16, 64)        0         \n",
      "                                                                 \n",
      " block2_conv1 (Conv2D)       (None, 16, 16, 128)       73856     \n",
      "                                                                 \n",
      " block2_conv2 (Conv2D)       (None, 16, 16, 128)       147584    \n",
      "                                                                 \n",
      " block2_pool (MaxPooling2D)  (None, 8, 8, 128)         0         \n",
      "                                                                 \n",
      " block3_conv1 (Conv2D)       (None, 8, 8, 256)         295168    \n",
      "                                                                 \n",
      " block3_conv2 (Conv2D)       (None, 8, 8, 256)         590080    \n",
      "                                                                 \n",
      " block3_conv3 (Conv2D)       (None, 8, 8, 256)         590080    \n",
      "                                                                 \n",
      " block3_pool (MaxPooling2D)  (None, 4, 4, 256)         0         \n",
      "                                                                 \n",
      " block4_conv1 (Conv2D)       (None, 4, 4, 512)         1180160   \n",
      "                                                                 \n",
      " block4_conv2 (Conv2D)       (None, 4, 4, 512)         2359808   \n",
      "                                                                 \n",
      " block4_conv3 (Conv2D)       (None, 4, 4, 512)         2359808   \n",
      "                                                                 \n",
      " block4_pool (MaxPooling2D)  (None, 2, 2, 512)         0         \n",
      "                                                                 \n",
      " block5_conv1 (Conv2D)       (None, 2, 2, 512)         2359808   \n",
      "                                                                 \n",
      " block5_conv2 (Conv2D)       (None, 2, 2, 512)         2359808   \n",
      "                                                                 \n",
      " block5_conv3 (Conv2D)       (None, 2, 2, 512)         2359808   \n",
      "                                                                 \n",
      " block5_pool (MaxPooling2D)  (None, 1, 1, 512)         0         \n",
      "                                                                 \n",
      " flatten (Flatten)           (None, 512)               0         \n",
      "                                                                 \n",
      " hidden_layer1 (Dense)       (None, 512)               262656    \n",
      "                                                                 \n",
      " dropout (Dropout)           (None, 512)               0         \n",
      "                                                                 \n",
      " hidden_layer2 (Dense)       (None, 256)               131328    \n",
      "                                                                 \n",
      " dropout_1 (Dropout)         (None, 256)               0         \n",
      "                                                                 \n",
      " predictions (Dense)         (None, 5)                 1285      \n",
      "                                                                 \n",
      "=================================================================\n",
      "Total params: 15109957 (57.64 MB)\n",
      "Trainable params: 395269 (1.51 MB)\n",
      "Non-trainable params: 14714688 (56.13 MB)\n",
      "_________________________________________________________________\n"
     ]
    }
   ],
   "source": [
    "vgg16_model = VGG16(weights='imagenet', include_top=False, classes=10, input_shape=(32,32,3))\n",
    "# Defining the sequential model and adding the layers from VGG16 to it.\n",
    "model_vgg = Sequential()\n",
    "\n",
    "for layer in vgg16_model.layers:\n",
    "    layer.trainable = False\n",
    "    model_vgg.add(layer)\n",
    "\n",
    "# Adding the top layers for the vgg16 for the mini cifar10.\n",
    "\n",
    "model_vgg.add(Flatten())\n",
    "model_vgg.add(Dense(512, activation='relu', name = 'hidden_layer1'))\n",
    "model_vgg.add(Dropout(0.4))\n",
    "model_vgg.add(Dense(256, activation='relu', name = 'hidden_layer2'))\n",
    "model_vgg.add(Dropout(0.4))\n",
    "model_vgg.add(Dense(5, activation='softmax', name = 'predictions'))\n",
    "\n",
    "model_vgg.summary()"
   ]
  },
  {
   "cell_type": "code",
   "execution_count": 16,
   "metadata": {
    "id": "4wZWHPdNMrdP"
   },
   "outputs": [],
   "source": [
    "optimizer = Adam(learning_rate=0.01)\n",
    "model_vgg.compile(loss=\"sparse_categorical_crossentropy\", optimizer=optimizer, metrics=['accuracy'])"
   ]
  },
  {
   "cell_type": "code",
   "execution_count": 17,
   "metadata": {
    "colab": {
     "base_uri": "https://localhost:8080/"
    },
    "id": "9LqzqeEvMrf3",
    "outputId": "0650d7e7-af1b-498e-b11b-c83c2147bc7d"
   },
   "outputs": [
    {
     "name": "stdout",
     "output_type": "stream",
     "text": [
      "Epoch 1/10\n",
      "125/125 [==============================] - 8s 23ms/step - loss: 3.3749 - accuracy: 0.4211 - val_loss: 1.1104 - val_accuracy: 0.5580\n",
      "Epoch 2/10\n",
      "125/125 [==============================] - 2s 12ms/step - loss: 1.3305 - accuracy: 0.4876 - val_loss: 1.1387 - val_accuracy: 0.5235\n",
      "Epoch 3/10\n",
      "125/125 [==============================] - 2s 16ms/step - loss: 1.2936 - accuracy: 0.5089 - val_loss: 1.2017 - val_accuracy: 0.4775\n",
      "Epoch 4/10\n",
      "125/125 [==============================] - 2s 19ms/step - loss: 1.2778 - accuracy: 0.5054 - val_loss: 1.1202 - val_accuracy: 0.5680\n",
      "Epoch 5/10\n",
      "125/125 [==============================] - 2s 13ms/step - loss: 1.2796 - accuracy: 0.4981 - val_loss: 1.1102 - val_accuracy: 0.5610\n",
      "Epoch 6/10\n",
      "125/125 [==============================] - 2s 12ms/step - loss: 1.3236 - accuracy: 0.4865 - val_loss: 1.2318 - val_accuracy: 0.4985\n",
      "Epoch 7/10\n",
      "125/125 [==============================] - 2s 12ms/step - loss: 1.3606 - accuracy: 0.4650 - val_loss: 1.2258 - val_accuracy: 0.4760\n",
      "Epoch 8/10\n",
      "125/125 [==============================] - 2s 12ms/step - loss: 1.3768 - accuracy: 0.4209 - val_loss: 1.3395 - val_accuracy: 0.4490\n",
      "Epoch 9/10\n",
      "125/125 [==============================] - 2s 12ms/step - loss: 1.3967 - accuracy: 0.4272 - val_loss: 1.2853 - val_accuracy: 0.5040\n",
      "Epoch 10/10\n",
      "125/125 [==============================] - 2s 12ms/step - loss: 1.5698 - accuracy: 0.3641 - val_loss: 1.3979 - val_accuracy: 0.3370\n"
     ]
    }
   ],
   "source": [
    "history_vgg = model_vgg.fit(X_new, Y_new, batch_size=64, epochs=10, validation_split=0.2)"
   ]
  },
  {
   "cell_type": "code",
   "execution_count": 18,
   "metadata": {
    "colab": {
     "base_uri": "https://localhost:8080/",
     "height": 489
    },
    "id": "wPaKdWGpMrjV",
    "outputId": "79077e69-9ba4-43b0-e8d8-3e2b7f686568"
   },
   "outputs": [
    {
     "data": {
      "image/png": "[encoded data removed]",
      "text/plain": [
       "<Figure size 640x480 with 1 Axes>"
      ]
     },
     "metadata": {},
     "output_type": "display_data"
    },
    {
     "data": {
      "text/plain": [
       "<Figure size 640x480 with 0 Axes>"
      ]
     },
     "metadata": {},
     "output_type": "display_data"
    }
   ],
   "source": [
    "# plt.plot(hist.history[\"acc\"])\n",
    "# plt.plot(hist.history['val_acc'])\n",
    "plt.plot(history_vgg.history['loss'])\n",
    "plt.plot(history_vgg.history['val_loss'])\n",
    "plt.title(\"model loss\")\n",
    "plt.ylabel(\"Loss\")\n",
    "plt.xlabel(\"Epoch\")\n",
    "plt.legend([\"Loss\",\"Validation Loss\"])\n",
    "plt.show()\n",
    "plt.savefig('chart loss.png')"
   ]
  },
  {
   "cell_type": "code",
   "execution_count": 35,
   "metadata": {
    "colab": {
     "base_uri": "https://localhost:8080/"
    },
    "id": "ZHzWN6D7FOmc",
    "outputId": "34d39194-9a7c-418b-bbe9-8480fc5d5a34"
   },
   "outputs": [
    {
     "name": "stdout",
     "output_type": "stream",
     "text": [
      "Model: \"sequential_5\"\n",
      "_________________________________________________________________\n",
      " Layer (type)                Output Shape              Param #   \n",
      "=================================================================\n",
      " block1_conv1 (Conv2D)       (None, 32, 32, 64)        1792      \n",
      "                                                                 \n",
      " block1_conv2 (Conv2D)       (None, 32, 32, 64)        36928     \n",
      "                                                                 \n",
      " block1_pool (MaxPooling2D)  (None, 16, 16, 64)        0         \n",
      "                                                                 \n",
      " block2_conv1 (Conv2D)       (None, 16, 16, 128)       73856     \n",
      "                                                                 \n",
      " block2_conv2 (Conv2D)       (None, 16, 16, 128)       147584    \n",
      "                                                                 \n",
      " block2_pool (MaxPooling2D)  (None, 8, 8, 128)         0         \n",
      "                                                                 \n",
      " block3_conv1 (Conv2D)       (None, 8, 8, 256)         295168    \n",
      "                                                                 \n",
      " block3_conv2 (Conv2D)       (None, 8, 8, 256)         590080    \n",
      "                                                                 \n",
      " block3_conv3 (Conv2D)       (None, 8, 8, 256)         590080    \n",
      "                                                                 \n",
      " block3_pool (MaxPooling2D)  (None, 4, 4, 256)         0         \n",
      "                                                                 \n",
      " block4_conv1 (Conv2D)       (None, 4, 4, 512)         1180160   \n",
      "                                                                 \n",
      " block4_conv2 (Conv2D)       (None, 4, 4, 512)         2359808   \n",
      "                                                                 \n",
      " block4_conv3 (Conv2D)       (None, 4, 4, 512)         2359808   \n",
      "                                                                 \n",
      " block4_pool (MaxPooling2D)  (None, 2, 2, 512)         0         \n",
      "                                                                 \n",
      " block5_conv1 (Conv2D)       (None, 2, 2, 512)         2359808   \n",
      "                                                                 \n",
      " block5_conv2 (Conv2D)       (None, 2, 2, 512)         2359808   \n",
      "                                                                 \n",
      " block5_conv3 (Conv2D)       (None, 2, 2, 512)         2359808   \n",
      "                                                                 \n",
      " block5_pool (MaxPooling2D)  (None, 1, 1, 512)         0         \n",
      "                                                                 \n",
      " flatten_5 (Flatten)         (None, 512)               0         \n",
      "                                                                 \n",
      " hidden_layer1 (Dense)       (None, 512)               262656    \n",
      "                                                                 \n",
      " dropout_8 (Dropout)         (None, 512)               0         \n",
      "                                                                 \n",
      " hidden_layer2 (Dense)       (None, 256)               131328    \n",
      "                                                                 \n",
      " dropout_9 (Dropout)         (None, 256)               0         \n",
      "                                                                 \n",
      " predictions (Dense)         (None, 10)                2570      \n",
      "                                                                 \n",
      "=================================================================\n",
      "Total params: 15111242 (57.64 MB)\n",
      "Trainable params: 396554 (1.51 MB)\n",
      "Non-trainable params: 14714688 (56.13 MB)\n",
      "_________________________________________________________________\n",
      "Epoch 1/30\n",
      "667/667 [==============================] - 12s 15ms/step - loss: 2.3479 - accuracy: 0.2968 - val_loss: 1.6074 - val_accuracy: 0.4391\n",
      "Epoch 2/30\n",
      "667/667 [==============================] - 10s 15ms/step - loss: 1.7018 - accuracy: 0.3965 - val_loss: 1.4596 - val_accuracy: 0.4848\n",
      "Epoch 3/30\n",
      "667/667 [==============================] - 10s 15ms/step - loss: 1.5755 - accuracy: 0.4419 - val_loss: 1.4052 - val_accuracy: 0.5046\n",
      "Epoch 4/30\n",
      "667/667 [==============================] - 9s 13ms/step - loss: 1.5066 - accuracy: 0.4722 - val_loss: 1.3562 - val_accuracy: 0.5346\n",
      "Epoch 5/30\n",
      "667/667 [==============================] - 9s 14ms/step - loss: 1.4434 - accuracy: 0.4915 - val_loss: 1.3174 - val_accuracy: 0.5396\n",
      "Epoch 6/30\n",
      "667/667 [==============================] - 9s 13ms/step - loss: 1.4021 - accuracy: 0.5086 - val_loss: 1.2726 - val_accuracy: 0.5662\n",
      "Epoch 7/30\n",
      "667/667 [==============================] - 10s 15ms/step - loss: 1.3603 - accuracy: 0.5253 - val_loss: 1.2609 - val_accuracy: 0.5674\n",
      "Epoch 8/30\n",
      "667/667 [==============================] - 9s 13ms/step - loss: 1.3278 - accuracy: 0.5316 - val_loss: 1.2391 - val_accuracy: 0.5732\n",
      "Epoch 9/30\n",
      "667/667 [==============================] - 10s 15ms/step - loss: 1.2999 - accuracy: 0.5468 - val_loss: 1.2367 - val_accuracy: 0.5792\n",
      "Epoch 10/30\n",
      "667/667 [==============================] - 9s 14ms/step - loss: 1.2724 - accuracy: 0.5563 - val_loss: 1.2093 - val_accuracy: 0.5846\n",
      "Epoch 11/30\n",
      "667/667 [==============================] - 9s 14ms/step - loss: 1.2561 - accuracy: 0.5615 - val_loss: 1.2041 - val_accuracy: 0.5846\n",
      "Epoch 12/30\n",
      "667/667 [==============================] - 10s 15ms/step - loss: 1.2253 - accuracy: 0.5721 - val_loss: 1.1861 - val_accuracy: 0.5982\n",
      "Epoch 13/30\n",
      "667/667 [==============================] - 10s 15ms/step - loss: 1.2082 - accuracy: 0.5770 - val_loss: 1.1781 - val_accuracy: 0.5982\n",
      "Epoch 14/30\n",
      "667/667 [==============================] - 10s 15ms/step - loss: 1.1817 - accuracy: 0.5886 - val_loss: 1.1679 - val_accuracy: 0.6062\n",
      "Epoch 15/30\n",
      "667/667 [==============================] - 9s 13ms/step - loss: 1.1713 - accuracy: 0.5916 - val_loss: 1.1564 - val_accuracy: 0.6041\n",
      "Epoch 16/30\n",
      "667/667 [==============================] - 9s 13ms/step - loss: 1.1545 - accuracy: 0.5961 - val_loss: 1.1538 - val_accuracy: 0.6082\n",
      "Epoch 17/30\n",
      "667/667 [==============================] - 10s 15ms/step - loss: 1.1333 - accuracy: 0.6033 - val_loss: 1.1516 - val_accuracy: 0.6041\n",
      "Epoch 18/30\n",
      "667/667 [==============================] - 9s 13ms/step - loss: 1.1188 - accuracy: 0.6051 - val_loss: 1.1473 - val_accuracy: 0.6092\n",
      "Epoch 19/30\n",
      "667/667 [==============================] - 10s 15ms/step - loss: 1.1046 - accuracy: 0.6112 - val_loss: 1.1380 - val_accuracy: 0.6139\n",
      "Epoch 20/30\n",
      "667/667 [==============================] - 10s 15ms/step - loss: 1.0856 - accuracy: 0.6206 - val_loss: 1.1335 - val_accuracy: 0.6148\n",
      "Epoch 21/30\n",
      "667/667 [==============================] - 10s 15ms/step - loss: 1.0756 - accuracy: 0.6230 - val_loss: 1.1349 - val_accuracy: 0.6112\n",
      "Epoch 22/30\n",
      "667/667 [==============================] - 10s 15ms/step - loss: 1.0637 - accuracy: 0.6313 - val_loss: 1.1330 - val_accuracy: 0.6182\n",
      "Epoch 23/30\n",
      "667/667 [==============================] - 9s 13ms/step - loss: 1.0498 - accuracy: 0.6326 - val_loss: 1.1214 - val_accuracy: 0.6202\n",
      "Epoch 24/30\n",
      "667/667 [==============================] - 10s 15ms/step - loss: 1.0325 - accuracy: 0.6352 - val_loss: 1.1229 - val_accuracy: 0.6200\n",
      "Epoch 25/30\n",
      "667/667 [==============================] - 10s 15ms/step - loss: 1.0276 - accuracy: 0.6372 - val_loss: 1.1147 - val_accuracy: 0.6218\n",
      "Epoch 26/30\n",
      "667/667 [==============================] - 9s 13ms/step - loss: 1.0111 - accuracy: 0.6422 - val_loss: 1.1204 - val_accuracy: 0.6226\n",
      "Epoch 27/30\n",
      "667/667 [==============================] - 9s 13ms/step - loss: 1.0022 - accuracy: 0.6447 - val_loss: 1.1168 - val_accuracy: 0.6202\n",
      "Epoch 28/30\n",
      "667/667 [==============================] - 9s 13ms/step - loss: 0.9881 - accuracy: 0.6501 - val_loss: 1.1154 - val_accuracy: 0.6174\n",
      "Epoch 29/30\n",
      "667/667 [==============================] - 9s 14ms/step - loss: 0.9771 - accuracy: 0.6553 - val_loss: 1.1170 - val_accuracy: 0.6197\n",
      "Epoch 30/30\n",
      "667/667 [==============================] - 9s 13ms/step - loss: 0.9648 - accuracy: 0.6587 - val_loss: 1.1103 - val_accuracy: 0.6195\n",
      "313/313 [==============================] - 3s 8ms/step - loss: 1.1120 - accuracy: 0.6209\n",
      "Testing loss: 1.1120425462722778\n",
      "Testing accuracy: 0.6208999752998352\n"
     ]
    }
   ],
   "source": [
    "from tensorflow.keras.applications.vgg16 import VGG16\n",
    "from tensorflow.keras.layers import Dense, Flatten\n",
    "from tensorflow.keras.models import Model\n",
    "from tensorflow.keras.optimizers import Adam\n",
    "from tensorflow.keras.preprocessing.image import ImageDataGenerator\n",
    "\n",
    "train_datagen = ImageDataGenerator(rescale=1./255, validation_split=0.2)\n",
    "train_generator = train_datagen.flow_from_directory(\n",
    "    directory=\"OxfordIIITPet\",\n",
    "    target_size=(224, 224),\n",
    "    batch_size=32,\n",
    "    class_mode=\"categorical\",\n",
    "    subset=\"training\"\n",
    ")\n",
    "validation_generator = train_datagen.flow_from_directory(\n",
    "    directory=\"OxfordIIITPet\",\n",
    "    target_size=(224, 224),\n",
    "    batch_size=32,\n",
    "    class_mode=\"categorical\",\n",
    "    subset=\"validation\"\n",
    ")\n",
    "\n",
    "base_model = VGG16(weights=\"imagenet\", include_top=False, input_shape=(224, 224, 3))\n",
    "\n",
    "x = Flatten()(base_model.output)\n",
    "x = Dense(256, activation=\"relu\")(x)\n",
    "x = Dense(120, activation=\"softmax\")(x)\n",
    "\n",
    "model = Model(inputs=base_model.input, outputs=x)\n",
    "\n",
    "model.compile(optimizer=Adam(learning_rate=0.0001), loss=\"sparse_categorical_crossentropy\", metrics=[\"accuracy\"])\n",
    "\n",
    "model.fit(train_generator, validation_data=validation_generator, epochs=30)"
   ]
  }
 ],
 "metadata": {
  "accelerator": "GPU",
  "colab": {
   "gpuType": "T4",
   "provenance": []
  },
  "kernelspec": {
   "display_name": "Python 3 (ipykernel)",
   "language": "python",
   "name": "python3"
  },
  "language_info": {
   "codemirror_mode": {
    "name": "ipython",
    "version": 3
   },
   "file_extension": ".py",
   "mimetype": "text/x-python",
   "name": "python",
   "nbconvert_exporter": "python",
   "pygments_lexer": "ipython3",
   "version": "3.10.13"
  }
 },
 "nbformat": 4,
 "nbformat_minor": 1
}
